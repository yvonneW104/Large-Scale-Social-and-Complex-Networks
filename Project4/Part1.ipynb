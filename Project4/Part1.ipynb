{
 "cells": [
  {
   "cell_type": "markdown",
   "metadata": {},
   "source": [
    "In this project, we will study the various properties of Internet Movie\n",
    "Database (IMDb). In the first part of the project, we will explore the\n",
    "properties of a directed actor/actress network. In the second part of the\n",
    "project, we will explore the properties of an undirected movie network."
   ]
  },
  {
   "cell_type": "code",
   "execution_count": 1,
   "metadata": {},
   "outputs": [
    {
     "name": "stderr",
     "output_type": "stream",
     "text": [
      "Loading required package: foreach\n",
      "Loading required package: iterators\n",
      "Loading required package: parallel\n",
      "\n",
      "Attaching package: ‘igraph’\n",
      "\n",
      "The following objects are masked from ‘package:stats’:\n",
      "\n",
      "    decompose, spectrum\n",
      "\n",
      "The following object is masked from ‘package:base’:\n",
      "\n",
      "    union\n",
      "\n"
     ]
    }
   ],
   "source": [
    "library(doParallel)\n",
    "library(igraph)\n",
    "library(tictoc)\n",
    "library(MASS)\n"
   ]
  },
  {
   "cell_type": "code",
   "execution_count": 87,
   "metadata": {
    "collapsed": true
   },
   "outputs": [],
   "source": [
    "cast_movieFD <- file(\"cast_movie.rds\", \"rb\")\n",
    "cast_movie <-readRDS(file = cast_movieFD)\n",
    "close(cast_movieFD)\n",
    "\n",
    "edgeListFD <- file(\"edgeList.rds\", \"rb\")\n",
    "edgeList <-readRDS(edgeListFD)\n",
    "close(edgeListFD)\n",
    "\n",
    "cast_movie_modFD <- file(\"cast_movie_mod.rds\", \"rb\")\n",
    "cast_movie_mod <-readRDS(cast_movie_modFD)\n",
    "close(cast_movie_modFD)\n",
    "\n",
    "castGFD <- file(\"castG.rds\", \"rb\")\n",
    "cast_g <-readRDS(castGFD)\n",
    "close(castGFD)\n",
    "\n",
    "PageRankFD <- file(\"PageRank.rds\", \"rb\")\n",
    "cast_PR <- readRDS(PageRankFD)\n",
    "close(PageRankFD)"
   ]
  },
  {
   "cell_type": "markdown",
   "metadata": {},
   "source": [
    "### 1 Actor/Actress network\n",
    "In this part of the project, we will create the network using the data from the following text files:\n",
    "\n",
    " - actor_movies.txt\n",
    "\n",
    " - actress_movies.txt\n",
    "\n",
    "The text files can be downloaded from the following link:\n",
    "\n",
    "https://ucla.box.com/s/z45q3g5zrpay8b8gtbql6ojaecb7kj2u\n",
    "\n",
    "In order to create the network in a consistent manner, you will need to do some data preprocessing. The preprocessing consists of 2 parts:\n",
    "\n",
    "1. Merging the two text files into one and then removing the actor/actress who has acted in less than 10 movies\n",
    "\n",
    "2. Cleaning the merged text file\n",
    "\n",
    "The cleaning part is necessary to avoid inconsistency in the network\n",
    "creation. If you analyze the merged text file, then you will observe\n",
    "that same movie might be counted multiple times due to the role of the\n",
    "actor/actress in that movie. For example, we might have\n",
    "\n",
    " - Movie X (voice)\n",
    "\n",
    " - Movie X (as uncredited)\n",
    "\n",
    "If you don’t clean the merged text file, then Movie X (voice) and Movie X (as uncredited) will be considered as different movies. Therefore, you will need to perform some cleaning operations to remove inconsistencies of various types.\n",
    "\n",
    "#### Question 1: Perform the preprocessing on the two text files and report the total number of actors and actresses and total number of unique movies that these actors and actresses have acted in."
   ]
  },
  {
   "cell_type": "code",
   "execution_count": 2,
   "metadata": {
    "collapsed": true
   },
   "outputs": [],
   "source": [
    "## read actor- & actress-movie list from the files\n",
    "filmNumBar = 10\n",
    "\n",
    "\n",
    "actorDir = \"./project4_data-selected/actor_movies.txt\"\n",
    "actressDir = \"./project4_data-selected/actress_movies.txt\"\n",
    "\n",
    "cast_movie = list()\n",
    "actorFD = file(actorDir, \"r\")\n",
    "while (length(oneLine <- readLines(actorFD, n = 1, warn = FALSE, encoding = \"latin1\")) > 0) {\n",
    "    fileVector <- strsplit(oneLine, \"\\t\\t\")\n",
    "    numFilms <- length(fileVector[[1]])\n",
    "\n",
    "    if(numFilms > filmNumBar){\n",
    "        cast_movie[[fileVector[[1]][1]]] <- tail(fileVector[[1]], numFilms - 1)\n",
    "    }\n",
    "} \n",
    "close(actorFD)\n",
    "\n",
    "actressFD = file(actressDir, \"r\")\n",
    "while (length(oneLine <- readLines(actressFD, n = 1, warn = FALSE,  encoding = \"latin1\")) > 0) {\n",
    "    fileVector <- strsplit(oneLine, \"\\t\\t\")\n",
    "    numFilms <- length(fileVector[[1]])\n",
    "\n",
    "    if(numFilms > filmNumBar){\n",
    "        cast_movie[[fileVector[[1]][1]]] <- tail(fileVector[[1]], numFilms - 1)\n",
    "    }\n",
    "} \n",
    "close(actressFD)\n",
    "\n",
    "cast_movieFD <- file(\"cast_movie.rds\", \"wb\")\n",
    "saveRDS(cast_movie , file = cast_movieFD)\n",
    "close(cast_movieFD)\n"
   ]
  },
  {
   "cell_type": "code",
   "execution_count": 3,
   "metadata": {
    "collapsed": true
   },
   "outputs": [],
   "source": [
    "cl <- makeCluster(7)\n",
    "registerDoParallel(cl)"
   ]
  },
  {
   "cell_type": "code",
   "execution_count": 4,
   "metadata": {},
   "outputs": [
    {
     "name": "stdout",
     "output_type": "stream",
     "text": [
      "92.28 sec elapsed\n"
     ]
    }
   ],
   "source": [
    "##parallel version of process the cast_movie\n",
    "tic()\n",
    "cast = names(cast_movie)\n",
    "numCast = length(cast)\n",
    "\n",
    "##remove all the content that surrounded by pairs of parentheses and the white space before/after the parentheses \n",
    "cast_movie_mod <- foreach(i = 1:numCast, .inorder = TRUE) %dopar%{\n",
    "    gsub(\"\\\\s*\\\\([^\\\\(\\\\)]*\\\\)\\\\s*\", \"\",  cast_movie[[i]])\n",
    "}\n",
    "toc()\n",
    "\n",
    "##save the modified data \n",
    "cast_movie_modFD <- file(\"cast_movie_mod.rds\", \"wb\")\n",
    "saveRDS(cast_movie_mod , file = cast_movie_modFD)\n",
    "close(cast_movie_modFD)"
   ]
  },
  {
   "cell_type": "code",
   "execution_count": 5,
   "metadata": {
    "collapsed": true
   },
   "outputs": [],
   "source": [
    "## Finding out how many movies and unique cast are found in the data\n",
    "uniqueMovie = unique(unlist(cast_movie_mod))\n",
    "numMovie <- length(uniqueMovie)\n",
    "numCast <-length(cast_movie_mod)\n",
    "print(numMovie)\n",
    "print(numCast)"
   ]
  },
  {
   "cell_type": "markdown",
   "metadata": {},
   "source": [
    "1.1 Directed actor/actress network creation\n",
    "We will use the processed text file to create the directed actor/actress network. The nodes of the network are the actor/actress and there are weighted edges between the nodes in the network. The weights of the edges are given by equation 1:\n",
    "\n",
    "$\\omega_{i\\rightarrow j}= \\frac{|S_i \\cap U_j|}{|S_i|}$\n",
    "\n",
    "where Si is the set of movies in which actor/actress vi has acted in and Sj is the set of movies in which actor/actress vj has acted in.\n",
    "\n",
    "#### Question 2: Create a weighted directed actor/actress network using the processed text file and equation 1. Plot the in-degree distribution of the actor/actress network. Briefly comment on the in-degree distribution."
   ]
  },
  {
   "cell_type": "code",
   "execution_count": 6,
   "metadata": {},
   "outputs": [
    {
     "name": "stdout",
     "output_type": "stream",
     "text": [
      "7333.04 sec elapsed\n"
     ]
    }
   ],
   "source": [
    "tic()\n",
    "cast_movie_mod <- foreach(i = 1:numCast, .inorder = TRUE) %dopar%{\n",
    "     match(cast_movie_mod[[i]], uniqueMovie)\n",
    "}\n",
    "toc()"
   ]
  },
  {
   "cell_type": "code",
   "execution_count": 7,
   "metadata": {},
   "outputs": [
    {
     "name": "stdout",
     "output_type": "stream",
     "text": [
      "22773.56 sec elapsed\n"
     ]
    }
   ],
   "source": [
    "##generate the edgelist  \n",
    "\n",
    "tic()\n",
    "edgeList <- foreach(i=1:numCast, .combine='rbind') %dopar%{\n",
    "    weight <- numeric(numCast)\n",
    "    tempCastFilm <- cast_movie_mod[[i]]\n",
    "    numOfCastFile <- length(tempCastFilm)\n",
    "    for(j in 1:numCast){\n",
    "        weight[j] <- length(intersect(tempCastFilm, cast_movie_mod[[j]]))\n",
    "    }\n",
    "    to = which(weight != 0)\n",
    "    to <- to[to != i]\n",
    "    weight = weight[to]/numOfCastFile\n",
    "    \n",
    "    currentNodeDegree <- length(to)\n",
    "    from = rep(i, currentNodeDegree)\n",
    "    cbind(from, to, weight)\n",
    "}\n",
    "toc()\n",
    "\n",
    "##save the data frame in case of lost power and data\n",
    "edgeListFD <- file(\"edgeList.rds\", \"wb\")\n",
    "saveRDS(edgeList , file = edgeListFD)\n",
    "close(edgeListFD)"
   ]
  },
  {
   "cell_type": "code",
   "execution_count": 8,
   "metadata": {
    "collapsed": true
   },
   "outputs": [],
   "source": [
    "stopCluster(cl)"
   ]
  },
  {
   "cell_type": "code",
   "execution_count": 3,
   "metadata": {},
   "outputs": [
    {
     "name": "stdout",
     "output_type": "stream",
     "text": [
      "233.14 sec elapsed\n"
     ]
    }
   ],
   "source": [
    "tic()\n",
    "cast_g <- graph_from_data_frame(edgeList, directed = TRUE)\n",
    "toc()\n",
    "castGFD <- file(\"castG.rds\", \"wb\")\n",
    "saveRDS(cast_g , file = castGFD)\n",
    "close(castGFD)"
   ]
  },
  {
   "cell_type": "code",
   "execution_count": 235,
   "metadata": {},
   "outputs": [
    {
     "name": "stdout",
     "output_type": "stream",
     "text": [
      "[1] 425.6703\n",
      "[1] 11271\n"
     ]
    },
    {
     "data": {
      "image/png": "[encoded data removed]",
      "text/plain": [
       "Plot with title \"Degree Distribution of the actor/actress\""
      ]
     },
     "metadata": {},
     "output_type": "display_data"
    }
   ],
   "source": [
    "cast_degree_distribution <- degree_distribution(cast_g, mode = \"in\")\n",
    "cast_degree_distribution1 <- cast_degree_distribution[which(cast_degree_distribution != 0)]\n",
    "print(mean(degree(cast_g, mode = \"in\")))\n",
    "print(max(degree(cast_g, mode = \"in\")))\n",
    "\n",
    "x1 <- which(cast_degree_distribution != 0)\n",
    "plot(x1, cast_degree_distribution1, main = \"Degree Distribution of the actor/actress\", xlab = \"degree\", ylab = \"Frequency\")\n",
    "x = 1:max(degree(cast_g, mode = \"in\"))\n",
    "para = fitdistr(degree(cast_g, mode = \"in\"), \"cauchy\", lower=c(0,0))\n",
    "y = dcauchy(x, location = 240.0719118, scale = 127.4253074)\n",
    "lines(x, y, col=\"green\")"
   ]
  },
  {
   "cell_type": "code",
   "execution_count": 241,
   "metadata": {},
   "outputs": [
    {
     "name": "stdout",
     "output_type": "stream",
     "text": [
      "85724 \n",
      "85688 \n",
      "+ 1/113084 vertex, named, from 5307a16:\n",
      "[1] 85724\n",
      "[1] \"Flowers, Bess\"\n",
      "[1] 828\n",
      "[1] \"Flockhart, Calista\"\n",
      "[1] 16\n"
     ]
    }
   ],
   "source": [
    "print(which(degree(cast_g, mode = \"in\") == max(degree(cast_g, mode = \"in\"))))\n",
    "print(V(cast_g)[which(degree(cast_g, mode = \"in\") == max(degree(cast_g, mode = \"in\")))])\n",
    "print(names(cast_movie)[85724])\n",
    "print(length(cast_movie[[names(cast_movie)[85724]]]))\n",
    "print(names(cast_movie)[85688])\n",
    "print(length(cast_movie[[names(cast_movie)[85688]]]))"
   ]
  },
  {
   "cell_type": "markdown",
   "metadata": {},
   "source": [
    "1.2 Actor pairings\n",
    "In this section, we will try to find the pairings between actors. We will\n",
    "consider the following 10 actors:\n",
    " - Tom Cruise\n",
    " - Emma Watson (II)\n",
    " - George Clooney\n",
    " - Tom Hanks\n",
    " - Dwayne Johnson (I)\n",
    " - Johnny Depp\n",
    " - Will Smith (I)\n",
    " - Meryl Streep\n",
    " - Leonardo DiCaprio\n",
    " - Brad Pitt\n",
    "\n",
    "#### Question 3: Design a simple algorithm to find the actor pairings. To be specific, your algorithm should take as input one of the actors listed above and should return the name of the actor with whom the input actor prefers to work the most. Run your algorithm for the actors listed above and report the actor names returned by your algorithm. Also for each pair, report the (input actor, output actor) edge weight. Does all the actor pairing make sense?"
   ]
  },
  {
   "cell_type": "code",
   "execution_count": 3,
   "metadata": {
    "collapsed": true
   },
   "outputs": [],
   "source": [
    "## get the ID of the cast\n",
    "target_cast = c('Cruise, Tom', \"Watson, Emma (II)\", \"Clooney, George\", \"Hanks, Tom\", \"Johnson, Dwayne (I)\", \"Depp, Johnny\", \"Smith, Will (I)\", \"Streep, Meryl\", \"DiCaprio, Leonardo\", \"Pitt, Brad\")\n"
   ]
  },
  {
   "cell_type": "code",
   "execution_count": 163,
   "metadata": {
    "collapsed": true
   },
   "outputs": [],
   "source": [
    "##get the id of the cast and this is also the symbolic ID in cast_g\n",
    "cast_IDs = list()\n",
    "for (cast in target_cast){\n",
    "    cast_IDs[[cast]] <- which(names(cast_movie) == cast)\n",
    "}\n",
    "##find the vertex of the cast also the numerate ID in cast_g\n",
    "vIDs = list()\n",
    "for (cast in target_cast){\n",
    "    vIDs[[cast]] <- which(V(cast_g)$name == cast_IDs[[cast]])\n",
    "}"
   ]
  },
  {
   "cell_type": "code",
   "execution_count": 144,
   "metadata": {
    "collapsed": true
   },
   "outputs": [],
   "source": [
    "cast_edgeList = list()\n",
    "for(cast in target_cast){\n",
    "    cast_edgeList[[cast]] = E(cast_g)[from(vIDs[[cast]])]\n",
    "}\n",
    "cast_edgeListFD <- file(\"cast_edgeList.rds\", \"wb\")\n",
    "saveRDS(cast_edgeList , file = cast_edgeListFD)\n",
    "close(cast_movie_modFD)"
   ]
  },
  {
   "cell_type": "code",
   "execution_count": 147,
   "metadata": {
    "collapsed": true
   },
   "outputs": [],
   "source": [
    "heaviest_cast_edge = list()\n",
    "for(cast in target_cast){\n",
    "    heaviest_cast_edge[[cast]] = cast_edgeList[[cast]][match(max(cast_edgeList[[cast]]$weight), cast_edgeList[[cast]]$weight)]\n",
    "}\n",
    "\n",
    "##find the endpoints of heaviest edge\n",
    "heaviest_edge_EP = list()\n",
    "for(cast in target_cast){\n",
    "    heaviest_edge_EP[[cast]] = ends(cast_g, heaviest_cast_edge[[cast]])\n",
    "}"
   ]
  },
  {
   "cell_type": "code",
   "execution_count": 162,
   "metadata": {},
   "outputs": [
    {
     "name": "stdout",
     "output_type": "stream",
     "text": [
      "[1] \"The actor Cruise, Tom loves to play with Kidman, Nicole movies, and they play 11 movie together. They two are connected by an edge of weight   0.17\"\n",
      "[1] \"The actor Watson, Emma (II) loves to play with Radcliffe, Daniel movies, and they play 13 movie together. They two are connected by an edge of weight   0.52\"\n",
      "[1] \"The actor Clooney, George loves to play with Damon, Matt movies, and they play 8 movie together. They two are connected by an edge of weight   0.12\"\n",
      "[1] \"The actor Hanks, Tom loves to play with Allen, Tim (I) movies, and they play 8 movie together. They two are connected by an edge of weight   0.10\"\n",
      "[1] \"The actor Johnson, Dwayne (I) loves to play with Austin, Steve (IV) movies, and they play 16 movie together. They two are connected by an edge of weight   0.21\"\n",
      "[1] \"The actor Depp, Johnny loves to play with Bonham Carter, Helena movies, and they play 8 movie together. They two are connected by an edge of weight   0.08\"\n",
      "[1] \"The actor Smith, Will (I) loves to play with Foster, Darrell movies, and they play 6 movie together. They two are connected by an edge of weight   0.12\"\n",
      "[1] \"The actor Streep, Meryl loves to play with De Niro, Robert movies, and they play 6 movie together. They two are connected by an edge of weight   0.06\"\n",
      "[1] \"The actor DiCaprio, Leonardo loves to play with Scorsese, Martin movies, and they play 5 movie together. They two are connected by an edge of weight   0.10\"\n",
      "[1] \"The actor Pitt, Brad loves to play with Clooney, George movies, and they play 7 movie together. They two are connected by an edge of weight   0.10\"\n"
     ]
    }
   ],
   "source": [
    "for(cast in target_cast){\n",
    "    mostLovedID = as.numeric(heaviest_edge_EP[[cast]][2])\n",
    "    print(sprintf(\"The actor %s loves to play with %s movies, and they play %d movie together. They two are connected by an edge of weight %6.2f\",\n",
    "                  cast, names(cast_movie)[mostLovedID], round(heaviest_cast_edge[[cast]]$weight * length(cast_movie_mod[[cast_IDs[[cast]]]])), heaviest_cast_edge[[cast]]$weight))\n",
    "\n",
    "}\n"
   ]
  },
  {
   "cell_type": "markdown",
   "metadata": {},
   "source": [
    "1.3 Actor rankings\n",
    "\n",
    "In this section, we will extract the top 10 actor/actress from the network.\n",
    "\n",
    "#### Question 4: Use the google’s pagerank algorithm to find the top 10 actor/actress in the network. Report the top 10 actor/actress and also the number of movies and the in-degree of each of the actor/actress in the top 10 list. Does the top 10 list have any actor/actress listed in the previous section? If it does not have any of the actor/actress listed in the previous section, please provide an explanation for this phenomenon.\n",
    "\n"
   ]
  },
  {
   "cell_type": "code",
   "execution_count": 32,
   "metadata": {
    "collapsed": true
   },
   "outputs": [],
   "source": [
    "cast_PR <- page_rank(cast_g, algo = \"prpack\",  directed = TRUE, damping = 0.85)\n",
    "PageRankFD <- file(\"PageRank.rds\", \"wb\")\n",
    "saveRDS(cast_PR, file = PageRankFD)\n",
    "close(PageRankFD)"
   ]
  },
  {
   "cell_type": "code",
   "execution_count": 71,
   "metadata": {
    "collapsed": true
   },
   "outputs": [],
   "source": [
    "## find the numerate ID of top ten pageRank\n",
    "topTenPR = order(cast_PR$vector, decreasing=TRUE)[1:10]\n",
    "\n",
    "## find the symbolic ID of top ten page Rank\n",
    "for (vID in vIDs){\n",
    "    if (vID %in% topTenPR){\n",
    "        sprintf(\"found \\\\s in top ten\", vID )\n",
    "    }\n",
    "}"
   ]
  },
  {
   "cell_type": "code",
   "execution_count": 145,
   "metadata": {},
   "outputs": [
    {
     "name": "stdout",
     "output_type": "stream",
     "text": [
      "[1] \"Top Ten PR cast and the number of fils they have participated\"\n",
      "[1] \"The actor Flowers, Bess has participated in 828 movies, and his/her in-degree is 1.13e+04\"\n",
      "[1] \"The actor Harris, Sam (II) has participated in 600 movies, and his/her in-degree is 1.01e+04\"\n",
      "[1] \"The actor Miller, Harold (I) has participated in 561 movies, and his/her in-degree is 9.39e+03\"\n",
      "[1] \"The actor Phelps, Lee (I) has participated in 647 movies, and his/her in-degree is 8.16e+03\"\n",
      "[1] \"The actor Farnum, Franklyn has participated in 565 movies, and his/her in-degree is 8.32e+03\"\n",
      "[1] \"The actor O'Connor, Frank (I) has participated in 623 movies, and his/her in-degree is 7.32e+03\"\n",
      "[1] \"The actor Steers, Larry has participated in 546 movies, and his/her in-degree is 7.81e+03\"\n",
      "[1] \"The actor Sullivan, Charles (I) has participated in 512 movies, and his/her in-degree is 7.52e+03\"\n",
      "[1] \"The actor Sayre, Jeffrey has participated in 430 movies, and his/her in-degree is 8.09e+03\"\n",
      "[1] \"The actor Holmes, Stuart (I) has participated in 539 movies, and his/her in-degree is 8.18e+03\"\n"
     ]
    }
   ],
   "source": [
    "topTenCastID = V(cast_g)$name[topTenPR]\n",
    "topTenCastID = as.numeric(topTenCastID)\n",
    "print(\"Top Ten PR cast and the number of fils they have participated\")\n",
    "\n",
    "for (i in 1:10){\n",
    "    castName <- names(cast_movie)[topTenCastID[i]]\n",
    "    filmsNum <- length(cast_movie_mod[[topTenCastID[i]]])\n",
    "    inDegree <- degree(cast_g,mode = \"in\")[topTenPR[i]]\n",
    "    print(sprintf(\"The actor %s has participated in %d movies, and his/her in-degree is %6.2e\", castName, filmsNum, inDegree))\n",
    "}\n"
   ]
  },
  {
   "cell_type": "markdown",
   "metadata": {},
   "source": [
    "#### Question 5: Report the pagerank scores of the actor/actress listed in the previous section. Also, report the number of movies each of these actor/actress have acted in and also their in-degree."
   ]
  },
  {
   "cell_type": "code",
   "execution_count": 146,
   "metadata": {},
   "outputs": [
    {
     "name": "stdout",
     "output_type": "stream",
     "text": [
      "[1] \"The actor Cruise, Tom has participated in 63 movies, his/her PageRank is 3.27e-05, his/her in-degree is 2.05e+03\"\n",
      "[1] \"The actor Watson, Emma (II) has participated in 25 movies, his/her PageRank is 1.36e-05, his/her in-degree is 5.88e+02\"\n",
      "[1] \"The actor Clooney, George has participated in 67 movies, his/her PageRank is 3.03e-05, his/her in-degree is 1.89e+03\"\n",
      "[1] \"The actor Hanks, Tom has participated in 80 movies, his/her PageRank is 3.96e-05, his/her in-degree is 2.39e+03\"\n",
      "[1] \"The actor Johnson, Dwayne (I) has participated in 78 movies, his/her PageRank is 3.22e-05, his/her in-degree is 1.62e+03\"\n",
      "[1] \"The actor Depp, Johnny has participated in 98 movies, his/her PageRank is 4.19e-05, his/her in-degree is 2.61e+03\"\n",
      "[1] \"The actor Smith, Will (I) has participated in 49 movies, his/her PageRank is 2.45e-05, his/her in-degree is 1.52e+03\"\n",
      "[1] \"The actor Streep, Meryl has participated in 97 movies, his/her PageRank is 3.03e-05, his/her in-degree is 1.83e+03\"\n",
      "[1] \"The actor DiCaprio, Leonardo has participated in 49 movies, his/her PageRank is 2.61e-05, his/her in-degree is 1.71e+03\"\n",
      "[1] \"The actor Pitt, Brad has participated in 71 movies, his/her PageRank is 3.69e-05, his/her in-degree is 2.35e+03\"\n"
     ]
    }
   ],
   "source": [
    "for (cast in target_cast){\n",
    "     castPR <-cast_PR$vector[vIDs[[cast]]]\n",
    "     filmsNum <- length(cast_movie_mod[[cast_IDs[[cast]]]])\n",
    "     inDegree <- degree(cast_g, mode = \"in\")[vIDs[[cast]]]\n",
    "     print(sprintf(\"The actor %s has participated in %d movies, his/her PageRank is %8.2e, his/her in-degree is %8.2e\",cast, filmsNum, castPR, inDegree))\n",
    "}"
   ]
  },
  {
   "cell_type": "code",
   "execution_count": null,
   "metadata": {
    "collapsed": true
   },
   "outputs": [],
   "source": []
  }
 ],
 "metadata": {
  "kernelspec": {
   "display_name": "R",
   "language": "R",
   "name": "ir"
  },
  "language_info": {
   "codemirror_mode": "r",
   "file_extension": ".r",
   "mimetype": "text/x-r-source",
   "name": "R",
   "pygments_lexer": "r",
   "version": "3.4.4"
  }
 },
 "nbformat": 4,
 "nbformat_minor": 2
}
